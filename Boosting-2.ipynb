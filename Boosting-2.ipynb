{
 "cells": [
  {
   "cell_type": "code",
   "execution_count": 1,
   "id": "43ce7604-cd1b-40e4-998f-859d8cc0490f",
   "metadata": {},
   "outputs": [],
   "source": [
    "## Q1. What is Gradient Boosting Regression?\n",
    "\n",
    "#Gradient Boosting Regression is a machine learning algorithm that combines multiple weak models to create a strong predictive model for continuous output variables. It's an ensemble learning technique that uses gradient descent to optimize the weights of the models.\n"
   ]
  },
  {
   "cell_type": "code",
   "execution_count": 2,
   "id": "b170654e-dbcc-47c8-b0aa-d8266dc3936f",
   "metadata": {},
   "outputs": [],
   "source": [
    "## Q2. Implement a simple gradient boosting algorithm from scratch using Python and NumPy. Use a\n",
    "#simple regression problem as an example and train the model on a small dataset. Evaluate the model's\n",
    "#performance using metrics such as mean squared error and R-squared.\n",
    "\n",
    "\n",
    "#To implement a simple gradient boosting algorithm from scratch, we will follow these steps:\n",
    "\n",
    "#Generate a Small Dataset: We'll create a simple regression problem using a small dataset.\n",
    "#Implement Gradient Boosting: We'll build the gradient boosting algorithm from scratch.\n",
    "#Train the Model: We'll train our gradient boosting model on the generated dataset.\n",
    "#Evaluate the Model: We'll evaluate the model's performance using metrics like Mean Squared Error (MSE) and R-squared."
   ]
  },
  {
   "cell_type": "code",
   "execution_count": 3,
   "id": "21abdb46-e660-411d-a3bc-90c2ca9426b4",
   "metadata": {},
   "outputs": [],
   "source": [
    "## Q3. Experiment with different hyperparameters such as learning rate, number of trees, and tree depth to\n",
    "#optimise the performance of the model. Use grid search or random search to find the best\n",
    "#  1. Generate a Small Dataset\n",
    "#We'll create a small synthetic dataset for a regression problem, where the target variable has a non-linear relationship with the feature.\n",
    "\n",
    "#2. Implement Gradient Boosting\n",
    "#We'll build a simple gradient boosting algorithm, which iteratively fits weak learners (decision trees) to the residuals (errors) of the previous model to improve accuracy.\n",
    "\n",
    "#3. Train the Model\n",
    "#We'll train the gradient boosting model on the dataset, iteratively adding weak learners to reduce the prediction error.\n",
    "\n",
    "#4. Evaluate the Model\n",
    "#Finally, we'll evaluate the model using metrics like Mean Squared Error (MSE) and R-squared (R²) to assess its performance."
   ]
  },
  {
   "cell_type": "code",
   "execution_count": 4,
   "id": "452b169b-ad7b-46a1-9cc6-6ee6a01ba33c",
   "metadata": {},
   "outputs": [],
   "source": [
    "## vQ5. What is the intuition behind the Gradient Boosting algorithm?\n",
    "\n",
    "##\n",
    "#Gradient Boosting uses gradient descent to optimize the direction of each arrow (the weights of the models). The algorithm:\n",
    "\n",
    "#- Identifies the direction of the steepest descent (the gradient) to minimize the loss function.\n",
    "#- Adjusts the weights of the models accordingly.\n",
    "\n",
    "#By iteratively focusing on the errors and adjusting the models' weights, Gradient Boosting creates a strong predictive model that can handle complex relationships and improve accuracy."
   ]
  },
  {
   "cell_type": "code",
   "execution_count": null,
   "id": "6a26c4bb-6b55-46a1-b880-0d61bc27da36",
   "metadata": {},
   "outputs": [],
   "source": []
  },
  {
   "cell_type": "code",
   "execution_count": null,
   "id": "09a87b7a-a1cf-46df-8ebc-bd0233310b4f",
   "metadata": {},
   "outputs": [],
   "source": []
  },
  {
   "cell_type": "code",
   "execution_count": null,
   "id": "7d69da51-c1c9-445c-a60d-afd1adccd767",
   "metadata": {},
   "outputs": [],
   "source": []
  }
 ],
 "metadata": {
  "kernelspec": {
   "display_name": "Python 3 (ipykernel)",
   "language": "python",
   "name": "python3"
  },
  "language_info": {
   "codemirror_mode": {
    "name": "ipython",
    "version": 3
   },
   "file_extension": ".py",
   "mimetype": "text/x-python",
   "name": "python",
   "nbconvert_exporter": "python",
   "pygments_lexer": "ipython3",
   "version": "3.10.8"
  }
 },
 "nbformat": 4,
 "nbformat_minor": 5
}
